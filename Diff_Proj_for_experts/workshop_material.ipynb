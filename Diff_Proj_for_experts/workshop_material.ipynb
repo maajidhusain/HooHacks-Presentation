{
 "cells": [
  {
   "cell_type": "markdown",
   "metadata": {},
   "source": [
    "# Demystifying Neural Networks\n",
    "\n",
    "**A presentation by the Data Science and Analytics Club at UVA for HooHacks 2024** \n",
    "\n",
    "Workshop by: Maajid Husain :: [LinkedIn](https://www.linkedin.com/in/maajid-husain/) :: [Github](https://github.com/maajidhusain)\n",
    "\n"
   ]
  },
  {
   "cell_type": "code",
   "execution_count": 1,
   "metadata": {},
   "outputs": [
    {
     "name": "stderr",
     "output_type": "stream",
     "text": [
      "2024-03-22 17:24:29.896923: I tensorflow/core/platform/cpu_feature_guard.cc:193] This TensorFlow binary is optimized with oneAPI Deep Neural Network Library (oneDNN) to use the following CPU instructions in performance-critical operations:  AVX2 FMA\n",
      "To enable them in other operations, rebuild TensorFlow with the appropriate compiler flags.\n"
     ]
    }
   ],
   "source": [
    "import numpy as np\n",
    "import pandas as pd\n",
    "import matplotlib.pyplot as plt\n",
    "from sklearn.model_selection import train_test_split\n",
    "from tensorflow.keras.models import Sequential\n",
    "from tensorflow.keras.utils import to_categorical\n",
    "from tensorflow.keras.layers import LSTM, Dense, Activation, Dropout\n",
    "from tensorflow.keras.callbacks import ModelCheckpoint, EarlyStopping, ReduceLROnPlateau\n",
    "from tensorflow.keras.optimizers import Adam\n",
    "from tensorflow.keras.regularizers import l2\n"
   ]
  },
  {
   "cell_type": "markdown",
   "metadata": {},
   "source": [
    "## The Problem\n",
    "We are running a superhero company and our new recruits need names. Luckily we have sourced a list of names from some of the most famous superheros from organizations like Marvel and DC Comics. Based on the foundational knowledge from the workshop today, you have been tasked with creating a `RNN` that is able to generate super hero names. Although generative AI can also solve this problem we want something less computationally taxing and an in house built application to solve this problem.\n",
    "\n",
    "An overview of how to solve the problem:\n",
    "1. Prepare Data\n",
    "2. Decide on model architecture\n",
    "3. Train and validate the model\n",
    "5. Generate names\n",
    "\n",
    "*If you want to go further, creating a web app that can automatically generate names on the click of a button is a great way to start adding neural networks to your project portfolio!!*"
   ]
  },
  {
   "cell_type": "markdown",
   "metadata": {},
   "source": [
    "### Step 1: Data Aquisition and Cleaning\n",
    "- Load dataset <https://gist.github.com/agarcas26/096346aa7a180d57f037cdb5a3f1418b>\n",
    "- Normalize text (all lowercase)\n",
    "- Character encoding: convert characters --> integers for model to process\n",
    "- Generate sequences of characters that wil be used for training"
   ]
  },
  {
   "cell_type": "code",
   "execution_count": 2,
   "metadata": {},
   "outputs": [
    {
     "name": "stderr",
     "output_type": "stream",
     "text": [
      "[nltk_data] Downloading package stopwords to\n",
      "[nltk_data]     /Users/Maajid/nltk_data...\n",
      "[nltk_data]   Package stopwords is already up-to-date!\n",
      "[nltk_data] Downloading package wordnet to /Users/Maajid/nltk_data...\n",
      "[nltk_data]   Package wordnet is already up-to-date!\n",
      "[nltk_data] Downloading package averaged_perceptron_tagger to\n",
      "[nltk_data]     /Users/Maajid/nltk_data...\n",
      "[nltk_data]   Package averaged_perceptron_tagger is already up-to-\n",
      "[nltk_data]       date!\n",
      "[nltk_data] Downloading package punkt to /Users/Maajid/nltk_data...\n",
      "[nltk_data]   Package punkt is already up-to-date!\n"
     ]
    }
   ],
   "source": [
    "# Data augmentation to add more rows to the data since we have a small dataset\n",
    "import nltk\n",
    "from nltk.corpus import wordnet\n",
    "from random import randint\n",
    "\n",
    "nltk.download('stopwords')\n",
    "nltk.download('wordnet')\n",
    "nltk.download('averaged_perceptron_tagger')\n",
    "nltk.download('punkt')\n",
    "\n",
    "def get_synonyms(word):\n",
    "    synonyms = set()\n",
    "    for syn in wordnet.synsets(word):\n",
    "        for lemma in syn.lemmas():\n",
    "            synonym = lemma.name().replace(\"_\", \" \").replace(\"-\", \" \").lower()\n",
    "            synonyms.add(synonym)\n",
    "    if word in synonyms:\n",
    "        synonyms.remove(word)\n",
    "    return list(synonyms)\n",
    "\n",
    "def synonym_replacement(sentence, n):\n",
    "    words = nltk.word_tokenize(sentence)\n",
    "    new_words = words.copy()\n",
    "    random_word_list = list(set([word for word in words if word not in nltk.corpus.stopwords.words('english')]))\n",
    "    num_replaced = 0\n",
    "    for _ in range(n):\n",
    "        if len(random_word_list) == 0:\n",
    "            break\n",
    "        random_word = random_word_list[randint(0, len(random_word_list)-1)]\n",
    "        synonyms = get_synonyms(random_word)\n",
    "        if len(synonyms) >= 1:\n",
    "            synonym = synonyms[0]\n",
    "            new_words = [synonym if word == random_word else word for word in new_words]\n",
    "            num_replaced += 1\n",
    "        random_word_list.remove(random_word)\n",
    "    sentence = ' '.join(new_words)\n",
    "    return sentence\n",
    "\n"
   ]
  },
  {
   "cell_type": "code",
   "execution_count": 3,
   "metadata": {},
   "outputs": [
    {
     "name": "stdout",
     "output_type": "stream",
     "text": [
      "Total Characters: 26339\n",
      "Total Vocab: 37\n",
      "Max Name Length: 54\n",
      "Total Patterns: 6006\n"
     ]
    }
   ],
   "source": [
    "# Load the dataset\n",
    "data = pd.read_csv(\"superheroes.csv\")\n",
    "\n",
    "# Convert names to lowercase\n",
    "names = data['name'].str.lower().tolist()\n",
    "\n",
    "for name in names.copy():  # Iterate over a copy of the list to avoid modifying it while iterating\n",
    "    augmented_name1 = synonym_replacement(name, 2)  # Adjust the number of synonyms replaced as needed\n",
    "    augmented_name2 = synonym_replacement(augmented_name1, 2)\n",
    "    names.append(augmented_name1)  # Append the augmented name to the original list\n",
    "    names.append(augmented_name2)\n",
    "\n",
    "# Create a mapping of unique characters to integers\n",
    "chars = sorted(list(set(\"\".join(names))))\n",
    "char_to_int = dict((c, i) for i, c in enumerate(chars))\n",
    "int_to_char = dict((i, c) for i, c in enumerate(chars))\n",
    "\n",
    "# Calculate the vocabulary size and max length of names\n",
    "n_chars = sum([len(name) for name in names])\n",
    "n_vocab = len(chars)\n",
    "max_length = max([len(name) for name in names])\n",
    "\n",
    "print(f\"Total Characters: {n_chars}\")\n",
    "print(f\"Total Vocab: {n_vocab}\")\n",
    "print(f\"Max Name Length: {max_length}\")\n",
    "\n",
    "dataX = []\n",
    "dataY = []\n",
    "\n",
    "# Sequence length for training can be smaller than the maximum to generate more patterns\n",
    "seq_length = 12  # This is an arbitrary choice, adjust based on your preference\n",
    "\n",
    "for name in names:\n",
    "    # Process each name to create sequences\n",
    "    for i in range(0, len(name) - seq_length, 1):\n",
    "        seq_in = name[i:i + seq_length]\n",
    "        seq_out = name[i + seq_length]\n",
    "        dataX.append([char_to_int[char] for char in seq_in])\n",
    "        dataY.append(char_to_int[seq_out])\n",
    "\n",
    "n_patterns = len(dataX)\n",
    "print(f\"Total Patterns: {n_patterns}\")\n",
    "\n",
    "# Update reshaping and normalization based on the new seq_length\n",
    "X = np.reshape(dataX, (n_patterns, seq_length, 1)) / float(n_vocab)\n",
    "y = to_categorical(dataY)\n",
    "\n",
    "X_train, X_val, y_train, y_val = train_test_split(X, y, test_size=0.2, random_state=42)\n"
   ]
  },
  {
   "cell_type": "markdown",
   "metadata": {},
   "source": [
    "### Step 2: Build Model\n",
    "- Since an RNN is our neural network of choice, we will proceed with an LSTM\n",
    "- Input Layer: encoded characters\n",
    "- LSTM Layers: where the model learns patterns\n",
    "- Dense output layer: outputs a probability distribution over possible characters\n",
    "- Activation function: `softmax` convert logits to probabilities\n",
    "- `Adam` optimization"
   ]
  },
  {
   "cell_type": "code",
   "execution_count": 4,
   "metadata": {},
   "outputs": [
    {
     "name": "stderr",
     "output_type": "stream",
     "text": [
      "2024-03-22 17:24:43.056823: I tensorflow/core/platform/cpu_feature_guard.cc:193] This TensorFlow binary is optimized with oneAPI Deep Neural Network Library (oneDNN) to use the following CPU instructions in performance-critical operations:  AVX2 FMA\n",
      "To enable them in other operations, rebuild TensorFlow with the appropriate compiler flags.\n"
     ]
    }
   ],
   "source": [
    "model = Sequential([\n",
    "    LSTM(256, input_shape=(seq_length, 1), return_sequences=True),\n",
    "    Dropout(0.2),  # Add dropout with a 20% drop rate\n",
    "    LSTM(256),\n",
    "    Dropout(0.2), \n",
    "    Dense(n_vocab),\n",
    "    Activation('softmax')\n",
    "])\n",
    "\n",
    "# Configure the model to use the Adam optimizer with a custom learning rate\n",
    "optimizer = Adam(learning_rate=0.001)  # Example learning rate, adjust based on performance\n",
    "model.compile(loss='categorical_crossentropy', optimizer=optimizer, metrics=['accuracy'])\n"
   ]
  },
  {
   "cell_type": "markdown",
   "metadata": {},
   "source": [
    "### Step 3: Training/Validating the Model"
   ]
  },
  {
   "cell_type": "code",
   "execution_count": 5,
   "metadata": {},
   "outputs": [
    {
     "name": "stdout",
     "output_type": "stream",
     "text": [
      "Epoch 1/100\n",
      "401/401 [==============================] - 17s 31ms/step - loss: 3.0341 - accuracy: 0.0980 - val_loss: 2.9768 - val_accuracy: 0.1223 - lr: 0.0010\n",
      "Epoch 2/100\n",
      "401/401 [==============================] - 13s 32ms/step - loss: 2.9941 - accuracy: 0.1010 - val_loss: 2.9760 - val_accuracy: 0.1223 - lr: 0.0010\n",
      "Epoch 3/100\n",
      "401/401 [==============================] - 12s 30ms/step - loss: 2.9856 - accuracy: 0.1078 - val_loss: 2.9812 - val_accuracy: 0.1165 - lr: 0.0010\n",
      "Epoch 4/100\n",
      "401/401 [==============================] - 12s 30ms/step - loss: 2.9658 - accuracy: 0.1162 - val_loss: 2.9526 - val_accuracy: 0.1314 - lr: 0.0010\n",
      "Epoch 5/100\n",
      "401/401 [==============================] - 12s 30ms/step - loss: 2.9252 - accuracy: 0.1255 - val_loss: 2.8921 - val_accuracy: 0.1364 - lr: 0.0010\n",
      "Epoch 6/100\n",
      "401/401 [==============================] - 12s 29ms/step - loss: 2.8451 - accuracy: 0.1561 - val_loss: 2.8364 - val_accuracy: 0.1556 - lr: 0.0010\n",
      "Epoch 7/100\n",
      "401/401 [==============================] - 12s 30ms/step - loss: 2.7813 - accuracy: 0.1738 - val_loss: 2.8142 - val_accuracy: 0.1656 - lr: 0.0010\n",
      "Epoch 8/100\n",
      "401/401 [==============================] - 12s 30ms/step - loss: 2.7337 - accuracy: 0.1767 - val_loss: 2.7656 - val_accuracy: 0.1722 - lr: 0.0010\n",
      "Epoch 9/100\n",
      "401/401 [==============================] - 12s 29ms/step - loss: 2.6752 - accuracy: 0.1982 - val_loss: 2.7053 - val_accuracy: 0.1905 - lr: 0.0010\n",
      "Epoch 10/100\n",
      "401/401 [==============================] - 12s 30ms/step - loss: 2.6051 - accuracy: 0.2196 - val_loss: 2.6618 - val_accuracy: 0.2038 - lr: 0.0010\n",
      "Epoch 11/100\n",
      "401/401 [==============================] - 12s 29ms/step - loss: 2.5207 - accuracy: 0.2444 - val_loss: 2.5903 - val_accuracy: 0.2255 - lr: 0.0010\n",
      "Epoch 12/100\n",
      "401/401 [==============================] - 13s 32ms/step - loss: 2.3893 - accuracy: 0.2818 - val_loss: 2.5013 - val_accuracy: 0.2795 - lr: 0.0010\n",
      "Epoch 13/100\n",
      "401/401 [==============================] - 12s 29ms/step - loss: 2.2355 - accuracy: 0.3339 - val_loss: 2.4458 - val_accuracy: 0.2795 - lr: 0.0010\n",
      "Epoch 14/100\n",
      "401/401 [==============================] - 13s 31ms/step - loss: 2.0634 - accuracy: 0.3736 - val_loss: 2.3692 - val_accuracy: 0.3319 - lr: 0.0010\n",
      "Epoch 15/100\n",
      "401/401 [==============================] - 12s 29ms/step - loss: 1.8808 - accuracy: 0.4367 - val_loss: 2.2574 - val_accuracy: 0.3669 - lr: 0.0010\n",
      "Epoch 16/100\n",
      "401/401 [==============================] - 12s 31ms/step - loss: 1.6793 - accuracy: 0.4931 - val_loss: 2.1649 - val_accuracy: 0.4002 - lr: 0.0010\n",
      "Epoch 17/100\n",
      "401/401 [==============================] - 12s 29ms/step - loss: 1.5119 - accuracy: 0.5473 - val_loss: 2.1382 - val_accuracy: 0.4101 - lr: 0.0010\n",
      "Epoch 18/100\n",
      "401/401 [==============================] - 12s 30ms/step - loss: 1.3376 - accuracy: 0.6022 - val_loss: 2.0927 - val_accuracy: 0.4276 - lr: 0.0010\n",
      "Epoch 19/100\n",
      "401/401 [==============================] - 12s 30ms/step - loss: 1.1943 - accuracy: 0.6428 - val_loss: 2.0646 - val_accuracy: 0.4725 - lr: 0.0010\n",
      "Epoch 20/100\n",
      "401/401 [==============================] - 12s 31ms/step - loss: 1.0348 - accuracy: 0.6973 - val_loss: 2.0041 - val_accuracy: 0.4942 - lr: 0.0010\n",
      "Epoch 21/100\n",
      "401/401 [==============================] - 11s 29ms/step - loss: 0.9195 - accuracy: 0.7225 - val_loss: 1.9989 - val_accuracy: 0.5191 - lr: 0.0010\n",
      "Epoch 22/100\n",
      "401/401 [==============================] - 12s 31ms/step - loss: 0.7921 - accuracy: 0.7617 - val_loss: 2.0184 - val_accuracy: 0.5125 - lr: 0.0010\n",
      "Epoch 23/100\n",
      "401/401 [==============================] - 12s 29ms/step - loss: 0.7084 - accuracy: 0.7839 - val_loss: 2.0340 - val_accuracy: 0.5349 - lr: 0.0010\n",
      "Epoch 24/100\n",
      "401/401 [==============================] - 11s 28ms/step - loss: 0.6189 - accuracy: 0.8166 - val_loss: 2.0681 - val_accuracy: 0.5391 - lr: 0.0010\n",
      "Epoch 25/100\n",
      "401/401 [==============================] - 12s 29ms/step - loss: 0.5721 - accuracy: 0.8337 - val_loss: 2.1057 - val_accuracy: 0.5483 - lr: 0.0010\n",
      "Epoch 26/100\n",
      "401/401 [==============================] - 10s 26ms/step - loss: 0.5343 - accuracy: 0.8374 - val_loss: 2.0846 - val_accuracy: 0.5449 - lr: 0.0010\n",
      "Epoch 27/100\n",
      "401/401 [==============================] - 11s 28ms/step - loss: 0.3874 - accuracy: 0.8926 - val_loss: 2.0771 - val_accuracy: 0.5624 - lr: 2.0000e-04\n",
      "Epoch 28/100\n",
      "401/401 [==============================] - 11s 28ms/step - loss: 0.3384 - accuracy: 0.9038 - val_loss: 2.0753 - val_accuracy: 0.5674 - lr: 2.0000e-04\n",
      "Epoch 29/100\n",
      "401/401 [==============================] - 10s 25ms/step - loss: 0.3147 - accuracy: 0.9117 - val_loss: 2.0978 - val_accuracy: 0.5666 - lr: 2.0000e-04\n",
      "Epoch 30/100\n",
      "401/401 [==============================] - 10s 25ms/step - loss: 0.3053 - accuracy: 0.9161 - val_loss: 2.1098 - val_accuracy: 0.5740 - lr: 2.0000e-04\n",
      "Epoch 31/100\n",
      "401/401 [==============================] - 10s 25ms/step - loss: 0.3042 - accuracy: 0.9088 - val_loss: 2.1128 - val_accuracy: 0.5749 - lr: 2.0000e-04\n"
     ]
    },
    {
     "data": {
      "image/png": "[encoded data removed]",
      "text/plain": [
       "<Figure size 640x480 with 1 Axes>"
      ]
     },
     "metadata": {},
     "output_type": "display_data"
    }
   ],
   "source": [
    "# Model checkpoints and early stopping\n",
    "checkpoint = ModelCheckpoint(\"best_model.h5\", save_best_only=True, monitor=\"val_loss\")\n",
    "early_stopping = EarlyStopping(monitor=\"val_loss\", patience=10)\n",
    "reduce_lr = ReduceLROnPlateau(monitor='val_loss', factor=0.2, patience=5, min_lr=0.0001)\n",
    "\n",
    "# Train the model with the new setup\n",
    "history = model.fit(X_train, y_train, epochs=100, batch_size=12, validation_data=(X_val, y_val),\n",
    "                    callbacks=[checkpoint, early_stopping, reduce_lr])\n",
    "# Plotting the training and validation loss\n",
    "plt.plot(history.history['loss'], label='Training Loss')\n",
    "plt.plot(history.history['val_loss'], label='Validation Loss')\n",
    "plt.title('Training and Validation Loss')\n",
    "plt.legend()\n",
    "plt.show()"
   ]
  },
  {
   "cell_type": "markdown",
   "metadata": {},
   "source": [
    "### Step 4: Generating Names"
   ]
  },
  {
   "cell_type": "code",
   "execution_count": 6,
   "metadata": {},
   "outputs": [],
   "source": [
    "def generate_name(seed, length=20):\n",
    "    generated_name = seed\n",
    "    # Pad the seed to match the input length expected by the model\n",
    "    seed = seed.ljust(seq_length)\n",
    "\n",
    "    for _ in range(length):\n",
    "        # Convert the seed string to integer encoding and reshape for the model\n",
    "        x_pred = np.reshape([char_to_int[char] for char in seed], (1, seq_length, 1))\n",
    "        x_pred = x_pred / float(n_vocab)\n",
    "        \n",
    "        # Predict the next character\n",
    "        prediction = model.predict(x_pred, verbose=0)\n",
    "        index = np.argmax(prediction[-1])\n",
    "        result = int_to_char[index]\n",
    "        \n",
    "        # Append the result to the generated name and update the seed\n",
    "        generated_name += result\n",
    "        seed = seed[1:] + result\n",
    "\n",
    "    return generated_name\n"
   ]
  },
  {
   "cell_type": "code",
   "execution_count": 7,
   "metadata": {},
   "outputs": [
    {
     "name": "stdout",
     "output_type": "stream",
     "text": [
      "super urittsssss deucee co\n"
     ]
    }
   ],
   "source": [
    "# Example of generating a new name\n",
    "new_name = generate_name('super ', 20)\n",
    "print(new_name)"
   ]
  }
 ],
 "metadata": {
  "kernelspec": {
   "display_name": "Python 3",
   "language": "python",
   "name": "python3"
  },
  "language_info": {
   "codemirror_mode": {
    "name": "ipython",
    "version": 3
   },
   "file_extension": ".py",
   "mimetype": "text/x-python",
   "name": "python",
   "nbconvert_exporter": "python",
   "pygments_lexer": "ipython3",
   "version": "3.10.13"
  }
 },
 "nbformat": 4,
 "nbformat_minor": 2
}
